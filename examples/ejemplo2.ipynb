{
 "cells": [
  {
   "cell_type": "code",
   "execution_count": null,
   "metadata": {
    "collapsed": false
   },
   "outputs": [],
   "source": [
    "from tofsim import ToF\n",
    "\n",
    "T = ToF()\n",
    "T.add_substances('Li,H2O,Ar')\n",
    "\n",
    "print(T.fragmentos.to_table())"
   ]
  },
  {
   "cell_type": "markdown",
   "metadata": {
    "collapsed": false
   },
   "source": [
    "También podemos sacar alguna de las sustancias:"
   ]
  },
  {
   "cell_type": "code",
   "execution_count": null,
   "metadata": {
    "collapsed": false
   },
   "outputs": [],
   "source": [
    "T.remove_substances('Ar')\n",
    "print(T.fragmentos.to_table())"
   ]
  }
 ],
 "metadata": {
  "kernelspec": {
   "argv": [
    "/usr/bin/python3",
    "-m",
    "ipykernel_launcher",
    "-f",
    "{connection_file}"
   ],
   "display_name": "Python 3",
   "env": null,
   "interrupt_mode": "signal",
   "language": "python",
   "metadata": null,
   "name": "python3"
  },
  "name": "ejemplo2.ipynb"
 },
 "nbformat": 4,
 "nbformat_minor": 4
}
