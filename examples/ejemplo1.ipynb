{
 "cells": [
  {
   "cell_type": "markdown",
   "metadata": {
    "collapsed": false
   },
   "source": [
    "# Ejemplos de uso del módulo tofsim"
   ]
  },
  {
   "cell_type": "markdown",
   "metadata": {
    "collapsed": false
   },
   "source": [
    "## Iniciar la sesión\n",
    "\n",
    "Para iniciar la sesión, importamos el paquete o sólo el objeto `ToF`\n",
    "Por ejemplo, en la forma:"
   ]
  },
  {
   "cell_type": "code",
   "execution_count": null,
   "metadata": {
    "collapsed": false
   },
   "outputs": [],
   "source": [
    "import tofsim\n",
    "T = tofsim.ToF()"
   ]
  },
  {
   "cell_type": "markdown",
   "metadata": {
    "collapsed": false
   },
   "source": [
    "o, simplemente:"
   ]
  },
  {
   "cell_type": "code",
   "execution_count": 1,
   "metadata": {
    "collapsed": false
   },
   "outputs": [],
   "source": [
    "from tofsim import ToF\n",
    "T = ToF()"
   ]
  },
  {
   "cell_type": "markdown",
   "metadata": {
    "collapsed": false
   },
   "source": [
    "El objeto del tipo `ToF` contiene toda la información sobre los parámetros de construcción y de funcionamiento"
   ]
  },
  {
   "cell_type": "code",
   "execution_count": 2,
   "metadata": {
    "collapsed": false
   },
   "outputs": [
    {
     "name": "stdout",
     "output_type": "stream",
     "text": [
      "Parámetros del TOF\n",
      "['s', 'd', 'D', 'Vs', 'Vd', 'ds', 'dt', 't0', 'r0']\n",
      "Valor original: Vs = 200.0\n",
      "Valor cambiado: Vs = 100.0\n",
      "s = 0.59\n",
      "d = 1.3\n",
      "D = 100.0\n",
      "Vs = 100.0\n",
      "Vd = 2000.0\n",
      "ds = 0.03\n",
      "dt = 0.008\n",
      "t0 = 0.0\n",
      "r0 = 1000.0\n"
     ]
    }
   ],
   "source": [
    "print ('Parámetros del TOF')\n",
    "print (T.tof_parameters)\n",
    "print ('Valor original: Vs =', T.Vs)\n",
    "T.Vs = T.Vs /2.\n",
    "print ('Valor cambiado: Vs =', T.Vs)\n",
    "for k in T.tof_parameters:\n",
    "  print ('{0} = {1}'.format(k, T.__dict__[k]))"
   ]
  },
  {
   "cell_type": "markdown",
   "metadata": {
    "collapsed": false
   },
   "source": [
    "## Cálculos\n",
    "\n",
    "Agregamos algunas sustancias a las cuales le vamos a simular las señales de tiempo de vuelo"
   ]
  },
  {
   "cell_type": "code",
   "execution_count": 3,
   "metadata": {
    "collapsed": false
   },
   "outputs": [],
   "source": [
    "T.add_substances('Li,H2O')"
   ]
  },
  {
   "cell_type": "code",
   "execution_count": 5,
   "metadata": {
    "collapsed": false
   },
   "outputs": [
    {
     "name": "stdout",
     "output_type": "stream",
     "text": [
      "\n",
      "╒═════════════╤══════════════╤══════════╤══════════════╕\n",
      "│ Sustancia   │ Fórmula      │     Masa │   Abundancia │\n",
      "╞═════════════╪══════════════╪══════════╪══════════════╡\n",
      "│ Li          │ 6Li^{0+}     │  6.01512 │     7.59     │\n",
      "├─────────────┼──────────────┼──────────┼──────────────┤\n",
      "│ Li          │ 7Li^{0+}     │  7.016   │    92.41     │\n",
      "├─────────────┼──────────────┼──────────┼──────────────┤\n",
      "│ H2O         │ 1H2-16O^{0+} │ 18.0106  │    99.7341   │\n",
      "├─────────────┼──────────────┼──────────┼──────────────┤\n",
      "│ H2O         │ 1H2-18O^{0+} │ 20.0148  │     0.204953 │\n",
      "╘═════════════╧══════════════╧══════════╧══════════════╛\n"
     ]
    }
   ],
   "source": [
    "# Veamos que fragmentos hemos agregado:\n",
    "print(T.fragments.to_text())"
   ]
  },
  {
   "cell_type": "markdown",
   "metadata": {
    "collapsed": false
   },
   "source": [
    "El método `ToF.signal()` devuelve la simulación de la señal que se observaría en el TOF."
   ]
  },
  {
   "cell_type": "code",
   "execution_count": 6,
   "metadata": {
    "collapsed": false
   },
   "outputs": [
    {
     "name": "stdout",
     "output_type": "stream",
     "text": [
      "type(s): <class 'dict'> \n",
      "\n",
      "keys: dict_keys(['signal', '6Li^{0+}', '7Li^{0+}', '1H2-16O^{0+}', '1H2-18O^{0+}', 'time'])\n"
     ]
    }
   ],
   "source": [
    "s = T.signal()\n",
    "print ('type(s):', type(s),'\\n')\n",
    "print ('keys:', s.keys())"
   ]
  },
  {
   "cell_type": "markdown",
   "metadata": {
    "collapsed": false
   },
   "source": [
    "El resultado es un diccionario donde cada elemento es un array de datos:\n",
    "\n",
    " - s['time'] tiene el eje x, con la ventana de tiempo\n",
    "\n",
    " - s['signal'] tiene los valores de la suma de todas las especies.\n",
    "\n",
    " - los restantes elementos `s[sustancia]` tienen los valores de señal producida por cada sustancia.\n",
    " "
   ]
  },
  {
   "cell_type": "code",
   "execution_count": 7,
   "metadata": {
    "collapsed": false
   },
   "outputs": [
    {
     "name": "stdout",
     "output_type": "stream",
     "text": [
      "<class 'numpy.ndarray'>\n"
     ]
    }
   ],
   "source": [
    "# Cada elemento es un numpy array\n",
    "print (type(s['signal']))"
   ]
  },
  {
   "cell_type": "markdown",
   "metadata": {
    "collapsed": false
   },
   "source": [
    "Notar que en realidad no es necesario guardar el valor de `s` en este caso ya que queda guardado en el objeto `T.times`"
   ]
  },
  {
   "cell_type": "code",
   "execution_count": 10,
   "metadata": {
    "collapsed": false
   },
   "outputs": [
    {
     "data": {
      "text/plain": [
       "True"
      ]
     },
     "execution_count": 10,
     "metadata": {},
     "output_type": "execute_result"
    }
   ],
   "source": [
    "T.times == s"
   ]
  },
  {
   "cell_type": "markdown",
   "metadata": {
    "collapsed": false
   },
   "source": [
    "## Gráficos\n",
    "\n",
    "La manera más simple de graficar es utilizando el método  `make_plot`."
   ]
  },
  {
   "cell_type": "code",
   "execution_count": 20,
   "metadata": {
    "collapsed": false
   },
   "outputs": [
    {
     "data": {
      "image/png": "[encoded data removed]",
      "text/plain": [
       "<Figure size 792x504 with 1 Axes>"
      ]
     },
     "metadata": {
      "needs_background": "light"
     },
     "output_type": "display_data"
    }
   ],
   "source": [
    "f = T.make_plot(T.fragments, negative=True, graph_all=True, hide_legend=False)"
   ]
  },
  {
   "cell_type": "markdown",
   "metadata": {
    "collapsed": false
   },
   "source": [
    "Este método ofrece algo de flexibilidad, pero dado que los datos se guardan como numpy arrays, se pueden graficar separadamente"
   ]
  },
  {
   "cell_type": "code",
   "execution_count": 21,
   "metadata": {
    "collapsed": false
   },
   "outputs": [
    {
     "data": {
      "text/plain": [
       "[<matplotlib.lines.Line2D at 0x7fe9faa94ee0>]"
      ]
     },
     "execution_count": 21,
     "metadata": {},
     "output_type": "execute_result"
    },
    {
     "data": {
      "image/png": "[encoded data removed]",
      "text/plain": [
       "<Figure size 432x288 with 1 Axes>"
      ]
     },
     "metadata": {
      "needs_background": "light"
     },
     "output_type": "display_data"
    }
   ],
   "source": [
    "import matplotlib.pyplot as plt\n",
    "x, y = T.times['time'], T.times['signal']\n",
    "plt.plot(x, y)"
   ]
  }
 ],
 "metadata": {
  "kernelspec": {
   "argv": [
    "/usr/bin/python3",
    "-m",
    "ipykernel_launcher",
    "-f",
    "{connection_file}"
   ],
   "display_name": "Python 3",
   "env": null,
   "interrupt_mode": "signal",
   "language": "python",
   "metadata": null,
   "name": "python3"
  },
  "language_info": {
   "codemirror_mode": {
    "name": "ipython",
    "version": 3
   },
   "file_extension": ".py",
   "mimetype": "text/x-python",
   "name": "python",
   "nbconvert_exporter": "python",
   "pygments_lexer": "ipython3",
   "version": "3.8.3"
  },
  "name": "ejemplo1.ipynb",
  "toc": {
   "base_numbering": 1,
   "nav_menu": null,
   "number_sections": true,
   "sideBar": true,
   "skip_h1_title": false,
   "title_cell": "Contenidos",
   "title_sidebar": "Contenidos",
   "toc_cell": false,
   "toc_position": null,
   "toc_section_display": true,
   "toc_window_display": false
  }
 },
 "nbformat": 4,
 "nbformat_minor": 4
}
