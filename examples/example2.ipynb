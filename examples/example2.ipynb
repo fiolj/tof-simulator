{
 "cells": [
  {
   "cell_type": "markdown",
   "metadata": {
    "collapsed": false
   },
   "source": [
    "# Getting Information on the peaks\n",
    "\n",
    "We want to get the peaks from the spectra.\n",
    "We start importing and creating the TOF object with all isotopes from Ar and Kr"
   ]
  },
  {
   "cell_type": "code",
   "execution_count": 7,
   "metadata": {
    "collapsed": false
   },
   "outputs": [],
   "source": [
    "from tofsim import ToF"
   ]
  },
  {
   "cell_type": "code",
   "execution_count": 8,
   "metadata": {
    "collapsed": false
   },
   "outputs": [],
   "source": [
    "\n",
    "T = ToF('Ar,Kr')\n",
    "T.Vs = 120                      # Extraction voltaje\n",
    "T.Vd = 3000                     # Acceleration voltaje\n",
    "T.signal();                     # Make the spectra"
   ]
  },
  {
   "cell_type": "code",
   "execution_count": 9,
   "metadata": {
    "collapsed": false
   },
   "outputs": [],
   "source": [
    "p = T.get_statistics_peaks()    # Get the peaks"
   ]
  },
  {
   "cell_type": "markdown",
   "metadata": {
    "collapsed": false
   },
   "source": [
    "Here `p`  is a dictionary-like object, where each key is a substance and each value is a dictionary with the information on each peak"
   ]
  },
  {
   "cell_type": "code",
   "execution_count": 10,
   "metadata": {
    "collapsed": false
   },
   "outputs": [
    {
     "data": {
      "text/plain": [
       "dict_keys(['36Ar^{+}', '38Ar^{+}', '40Ar^{+}', '78Kr^{+}', '80Kr^{+}', '82Kr^{+}', '83Kr^{+}', '84Kr^{+}', '86Kr^{+}'])"
      ]
     },
     "execution_count": 10,
     "metadata": {},
     "output_type": "execute_result"
    }
   ],
   "source": [
    "p.keys()"
   ]
  },
  {
   "cell_type": "code",
   "execution_count": 11,
   "metadata": {
    "collapsed": false
   },
   "outputs": [
    {
     "data": {
      "text/plain": [
       "{'index': (53, 56, 60),\n",
       " 'position': 8.519009871520703,\n",
       " 'height': 6.774956591427326,\n",
       " 'width': 0.03684000090535555}"
      ]
     },
     "execution_count": 11,
     "metadata": {},
     "output_type": "execute_result"
    }
   ],
   "source": [
    "list(p.values())[0]"
   ]
  },
  {
   "cell_type": "code",
   "execution_count": 12,
   "metadata": {
    "collapsed": false
   },
   "outputs": [
    {
     "data": {
      "text/plain": [
       "['index', 'position', 'height', 'width']"
      ]
     },
     "execution_count": 12,
     "metadata": {},
     "output_type": "execute_result"
    }
   ],
   "source": [
    "p.headers"
   ]
  },
  {
   "cell_type": "markdown",
   "metadata": {
    "collapsed": false
   },
   "source": [
    "## Output the data of the peaks"
   ]
  },
  {
   "cell_type": "code",
   "execution_count": 13,
   "metadata": {
    "collapsed": false
   },
   "outputs": [
    {
     "name": "stdout",
     "output_type": "stream",
     "text": [
      "\n",
      "Substance    index              position      height      width\n",
      "-----------  ---------------  ----------  ----------  ---------\n",
      "36Ar^{+}     (53, 56, 60)        8.51901     6.77496  0.03684\n",
      "38Ar^{+}     (97, 101, 104)      8.75419     1.28081  0.03684\n",
      "40Ar^{+}     (140, 144, 147)     8.98108  2010.2      0.03684\n",
      "78Kr^{+}     (816, 820, 825)    12.5402      6.76633  0.0473657\n",
      "80Kr^{+}     (846, 851, 855)    12.7016     43.8943   0.0473657\n",
      "82Kr^{+}     (876, 881, 885)    12.8594    222.046    0.0473657\n",
      "83Kr^{+}     (891, 896, 900)    12.938     220.033    0.0473657\n",
      "84Kr^{+}     (906, 910, 915)    13.0137   1079.69     0.0473657\n",
      "86Kr^{+}     (935, 940, 944)    13.1696    329.294    0.0473657\n"
     ]
    }
   ],
   "source": [
    "print(p)"
   ]
  },
  {
   "cell_type": "markdown",
   "metadata": {
    "collapsed": false
   },
   "source": [
    "If we want to print them in a different way we may use directly the dictionary-like object or the list obtained by using `tolist()` method"
   ]
  },
  {
   "cell_type": "code",
   "execution_count": 14,
   "metadata": {
    "collapsed": false
   },
   "outputs": [
    {
     "data": {
      "text/plain": [
       "['36Ar^{+}',\n",
       " (53, 56, 60),\n",
       " 8.519009871520703,\n",
       " 6.774956591427326,\n",
       " 0.03684000090535555]"
      ]
     },
     "execution_count": 14,
     "metadata": {},
     "output_type": "execute_result"
    }
   ],
   "source": [
    "pl = p.tolist()\n",
    "pl[0]"
   ]
  },
  {
   "cell_type": "markdown",
   "metadata": {
    "collapsed": false
   },
   "source": [
    "Importing and using the tabulate package we may output it to any supported format. For instance, \"fancy_grid\":"
   ]
  },
  {
   "cell_type": "code",
   "execution_count": 15,
   "metadata": {
    "collapsed": false
   },
   "outputs": [],
   "source": [
    "from tabulate import tabulate\n",
    "headers = ['Fragment'] + p.headers"
   ]
  },
  {
   "cell_type": "code",
   "execution_count": 16,
   "metadata": {
    "collapsed": false
   },
   "outputs": [
    {
     "name": "stdout",
     "output_type": "stream",
     "text": [
      "╒════════════╤═════════════════╤════════════╤════════════╤═══════════╕\n",
      "│ Fragment   │ index           │   position │     height │     width │\n",
      "╞════════════╪═════════════════╪════════════╪════════════╪═══════════╡\n",
      "│ 36Ar^{+}   │ (53, 56, 60)    │    8.51901 │    6.77496 │ 0.03684   │\n",
      "├────────────┼─────────────────┼────────────┼────────────┼───────────┤\n",
      "│ 38Ar^{+}   │ (97, 101, 104)  │    8.75419 │    1.28081 │ 0.03684   │\n",
      "├────────────┼─────────────────┼────────────┼────────────┼───────────┤\n",
      "│ 40Ar^{+}   │ (140, 144, 147) │    8.98108 │ 2010.2     │ 0.03684   │\n",
      "├────────────┼─────────────────┼────────────┼────────────┼───────────┤\n",
      "│ 78Kr^{+}   │ (816, 820, 825) │   12.5402  │    6.76633 │ 0.0473657 │\n",
      "├────────────┼─────────────────┼────────────┼────────────┼───────────┤\n",
      "│ 80Kr^{+}   │ (846, 851, 855) │   12.7016  │   43.8943  │ 0.0473657 │\n",
      "├────────────┼─────────────────┼────────────┼────────────┼───────────┤\n",
      "│ 82Kr^{+}   │ (876, 881, 885) │   12.8594  │  222.046   │ 0.0473657 │\n",
      "├────────────┼─────────────────┼────────────┼────────────┼───────────┤\n",
      "│ 83Kr^{+}   │ (891, 896, 900) │   12.938   │  220.033   │ 0.0473657 │\n",
      "├────────────┼─────────────────┼────────────┼────────────┼───────────┤\n",
      "│ 84Kr^{+}   │ (906, 910, 915) │   13.0137  │ 1079.69    │ 0.0473657 │\n",
      "├────────────┼─────────────────┼────────────┼────────────┼───────────┤\n",
      "│ 86Kr^{+}   │ (935, 940, 944) │   13.1696  │  329.294   │ 0.0473657 │\n",
      "╘════════════╧═════════════════╧════════════╧════════════╧═══════════╛\n"
     ]
    }
   ],
   "source": [
    "print(tabulate(p.tolist(), headers=headers, tablefmt='fancy_grid'))"
   ]
  },
  {
   "cell_type": "markdown",
   "metadata": {
    "collapsed": false
   },
   "source": [
    "or \"latex\":"
   ]
  },
  {
   "cell_type": "code",
   "execution_count": 17,
   "metadata": {
    "collapsed": false
   },
   "outputs": [
    {
     "name": "stdout",
     "output_type": "stream",
     "text": [
      "\\begin{tabular}{llrrr}\n",
      "\\hline\n",
      " Fragment   & index           &   position &     height &     width \\\\\n",
      "\\hline\n",
      " 36Ar\\^{}\\{+\\}   & (53, 56, 60)    &    8.51901 &    6.77496 & 0.03684   \\\\\n",
      " 38Ar\\^{}\\{+\\}   & (97, 101, 104)  &    8.75419 &    1.28081 & 0.03684   \\\\\n",
      " 40Ar\\^{}\\{+\\}   & (140, 144, 147) &    8.98108 & 2010.2     & 0.03684   \\\\\n",
      " 78Kr\\^{}\\{+\\}   & (816, 820, 825) &   12.5402  &    6.76633 & 0.0473657 \\\\\n",
      " 80Kr\\^{}\\{+\\}   & (846, 851, 855) &   12.7016  &   43.8943  & 0.0473657 \\\\\n",
      " 82Kr\\^{}\\{+\\}   & (876, 881, 885) &   12.8594  &  222.046   & 0.0473657 \\\\\n",
      " 83Kr\\^{}\\{+\\}   & (891, 896, 900) &   12.938   &  220.033   & 0.0473657 \\\\\n",
      " 84Kr\\^{}\\{+\\}   & (906, 910, 915) &   13.0137  & 1079.69    & 0.0473657 \\\\\n",
      " 86Kr\\^{}\\{+\\}   & (935, 940, 944) &   13.1696  &  329.294   & 0.0473657 \\\\\n",
      "\\hline\n",
      "\\end{tabular}\n"
     ]
    }
   ],
   "source": [
    "print(tabulate(p.tolist(), headers=headers, tablefmt='latex'))"
   ]
  },
  {
   "cell_type": "markdown",
   "metadata": {
    "collapsed": false
   },
   "source": [
    "## Plot the data"
   ]
  },
  {
   "cell_type": "code",
   "execution_count": 18,
   "metadata": {
    "collapsed": false
   },
   "outputs": [],
   "source": [
    "import numpy as np\n",
    "import matplotlib.pyplot as plt"
   ]
  },
  {
   "cell_type": "code",
   "execution_count": 20,
   "metadata": {
    "collapsed": false
   },
   "outputs": [],
   "source": [
    "pa = np.asarray(pl)"
   ]
  },
  {
   "cell_type": "markdown",
   "metadata": {
    "collapsed": false
   },
   "source": [
    "We will plot the position and width of each peak as a function of the mass of the fragment: "
   ]
  },
  {
   "cell_type": "code",
   "execution_count": 27,
   "metadata": {
    "collapsed": false
   },
   "outputs": [],
   "source": [
    "x = [T.fragments[k]['M'] for k in pa[:,0]]\n",
    "ypos = pa[:,2]\n",
    "ywidth = pa[:,4]"
   ]
  },
  {
   "cell_type": "code",
   "execution_count": 28,
   "metadata": {
    "collapsed": false
   },
   "outputs": [
    {
     "data": {
      "image/png": "[encoded data removed]",
      "text/plain": [
       "<Figure size 576x720 with 2 Axes>"
      ]
     },
     "metadata": {
      "needs_background": "light"
     },
     "output_type": "display_data"
    }
   ],
   "source": [
    "fig, ax = plt.subplots(nrows=2, sharex=True, figsize=(8, 10))\n",
    "ax[0].plot(x, ypos, '-s', label='Peak position')\n",
    "ax[1].plot(x, ywidth, '-o', label='Peak width')\n",
    "ax[1].set_xlabel(r'Mass [AMU]')\n",
    "\n",
    "ax[0].set_ylabel(r'Time [$\\mu s$]')\n",
    "ax[1].set_ylabel(r'Time [$\\mu s$]')\n",
    "ax[0].legend(loc='best')\n",
    "ax[1].legend(loc='best')\n",
    "plt.subplots_adjust(hspace=0)\n"
   ]
  }
 ],
 "metadata": {
  "kernelspec": {
   "argv": [
    "/usr/bin/python3",
    "-m",
    "ipykernel_launcher",
    "-f",
    "{connection_file}"
   ],
   "display_name": "Python 3",
   "env": null,
   "interrupt_mode": "signal",
   "language": "python",
   "metadata": null,
   "name": "python3"
  },
  "name": "example2.ipynb"
 },
 "nbformat": 4,
 "nbformat_minor": 4
}
